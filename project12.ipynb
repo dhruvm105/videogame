{
 "cells": [
  {
   "cell_type": "markdown",
   "metadata": {},
   "source": [
    "# Analysis of Video Game Ratings\n",
    "\n",
    "By: Dhruv Murthy \n",
    "\n",
    "For CISC108 Introduction To Computer Science Fall 2020\n",
    "\n",
    "**Origin:** This notebook analyses video game rating for different games and across different maturity levels. The data in this notebook was originally collected by Dr. Joe Cox and has the information of over a thousand video games released from 2004 to 2010. The playtime information was collected from crowd-sourced data on \"How Long to Beat\". More information about this data can be found [here](https://researchportal.port.ac.uk/portal/en/publications/what-makes-a-blockbuster-video-game(a6d848fe-38ae-4584-8c95-a0f735ec9b4c).html). This data was made availabe to me through the [CORGIS COLLECTION](https://think.cs.vt.edu/corgis/json/).\n",
    "\n",
    "**Importance:** This data can be critical in understanding the future of the gaming industry. With gaming becoming more and more popular, it is essential for developers to understand what times of games are attracting higher ratings and which games people play more. This way, game developers can prioritze making games that will maximize their profits rather than making  games which will not be as profitable."
   ]
  },
  {
   "cell_type": "markdown",
   "metadata": {},
   "source": [
    "# Loading the Data"
   ]
  },
  {
   "cell_type": "code",
   "execution_count": 7,
   "metadata": {},
   "outputs": [
    {
     "name": "stdout",
     "output_type": "stream",
     "text": [
      "{'Features': {'Handheld?': True,\n",
      "              'Max Players': 1,\n",
      "              'Multiplatform?': True,\n",
      "              'Online?': True},\n",
      " 'Length': {'All PlayStyles': {'Average': 22.716666666666665,\n",
      "                               'Leisure': 31.9,\n",
      "                               'Median': 24.483333333333334,\n",
      "                               'Polled': 57,\n",
      "                               'Rushed': 14.3},\n",
      "            'Completionists': {'Average': 29.766666666666666,\n",
      "                               'Leisure': 35.03333333333333,\n",
      "                               'Median': 30.0,\n",
      "                               'Polled': 20,\n",
      "                               'Rushed': 22.016666666666666},\n",
      "            'Main + Extras': {'Average': 24.916666666666668,\n",
      "                              'Leisure': 29.966666666666665,\n",
      "                              'Median': 25.0,\n",
      "                              'Polled': 16,\n",
      "                              'Rushed': 18.333333333333332},\n",
      "            'Main Story': {'Average': 14.333333333333334,\n",
      "                           'Leisure': 18.316666666666666,\n",
      "                           'Median': 14.5,\n",
      "                           'Polled': 21,\n",
      "                           'Rushed': 9.7}},\n",
      " 'Metadata': {'Genres': 'Action',\n",
      "              'Licensed?': True,\n",
      "              'Publishers': 'Nintendo',\n",
      "              'Sequel?': True},\n",
      " 'Metrics': {'Review Score': 85, 'Sales': 4.69, 'Used Price': 24.95},\n",
      " 'Release': {'Console': 'Nintendo DS',\n",
      "             'Rating': 'E',\n",
      "             'Re-release?': True,\n",
      "             'Year': 2004},\n",
      " 'Title': 'Super Mario 64 DS'}\n"
     ]
    }
   ],
   "source": [
    "# Load the JSON data with Requests\n",
    "import requests\n",
    "reports = requests.get(\"https://corgis-edu.github.io/corgis/datasets/json/video_games/video_games.json\").json()\n",
    "\n",
    "from pprint import pprint\n",
    "#Preview first row of data\n",
    "\n",
    "pprint(reports[0])"
   ]
  },
  {
   "cell_type": "markdown",
   "metadata": {},
   "source": [
    "# Histogram Analysis\n",
    "\n",
    "For my histogram, I will analyze the review scores of games rated as E for everyone."
   ]
  },
  {
   "cell_type": "code",
   "execution_count": 2,
   "metadata": {},
   "outputs": [
    {
     "data": {
      "image/png": "[encoded data removed]",
      "text/plain": [
       "<Figure size 432x288 with 1 Axes>"
      ]
     },
     "metadata": {
      "needs_background": "light"
     },
     "output_type": "display_data"
    }
   ],
   "source": [
    "import matplotlib.pyplot as plt\n",
    "newlist = []\n",
    "for report in reports:\n",
    "    if report['Release']['Rating']== 'E':\n",
    "        newlist.append(report['Metrics']['Review Score'])\n",
    "\n",
    "\n",
    "plt.hist(newlist)\n",
    "plt.title(\"Distribution of Review Scores of E rated games\")\n",
    "plt.xlabel(\"Scores\")\n",
    "plt.ylabel(\"Number of Ratings\")\n",
    "\n",
    "plt.show()"
   ]
  },
  {
   "cell_type": "markdown",
   "metadata": {},
   "source": [
    "My histogram shows the frequency of review scores for games that are rated as \"E\". Each column shows a particular score range that games could fall between. As shown in this graph, most games have a rating between 60 to 80. There is a smaller amount of games that have a rating from 40 to 60 and 80 to 90. Then, there are some outliers in the the 20 to 40 range."
   ]
  },
  {
   "cell_type": "markdown",
   "metadata": {},
   "source": [
    "# Scatter Plot Analysis\n",
    "\n",
    "For my first additional analysis, I chose to do a scatter plot which compares the ratings of games with an E rating and their respective prices."
   ]
  },
  {
   "cell_type": "code",
   "execution_count": 3,
   "metadata": {},
   "outputs": [
    {
     "data": {
      "image/png": "[encoded data removed]",
      "text/plain": [
       "<Figure size 432x288 with 1 Axes>"
      ]
     },
     "metadata": {
      "needs_background": "light"
     },
     "output_type": "display_data"
    }
   ],
   "source": [
    "newlist = []\n",
    "for report in reports:\n",
    "    if report['Release']['Rating']== 'E':\n",
    "        newlist.append(report['Metrics']['Review Score'])\n",
    "        \n",
    "otherlist = []\n",
    "for report in reports:\n",
    "    if report['Release']['Rating']== 'E':\n",
    "        otherlist.append(report['Metrics']['Used Price'])\n",
    "\n",
    "plt.scatter(otherlist,newlist)\n",
    "plt.title(\"Games rated E Review Score versus the price\")\n",
    "plt.xlabel(\"Prices\")\n",
    "plt.ylabel(\"Scores\")\n",
    "plt.show()"
   ]
  },
  {
   "cell_type": "markdown",
   "metadata": {},
   "source": [
    "The scatter plot shows correlation between prices of the games and review scores of the game. This graph shows that most of these games were between 15 and 25 dollars. Normally, we would think that games with a lower rating would be cheaper and games with a higher rating would be more expensive. However, this graph does not show a clear correlation between price and review scores of the game. Based on this graph, we would conclude that rating of the game does not have an effect on the price of the game."
   ]
  },
  {
   "cell_type": "markdown",
   "metadata": {},
   "source": [
    "# Bar Graph Analysis\n",
    "\n",
    "For my second additional analysis, I chose to do a bar graph which visualizes the time needed to play Super Mario 64 DS for different types of playing styles."
   ]
  },
  {
   "cell_type": "code",
   "execution_count": 5,
   "metadata": {},
   "outputs": [
    {
     "data": {
      "image/png": "[encoded data removed]",
      "text/plain": [
       "<Figure size 432x288 with 1 Axes>"
      ]
     },
     "metadata": {
      "needs_background": "light"
     },
     "output_type": "display_data"
    }
   ],
   "source": [
    "for report in reports:\n",
    "    if report['Title']== 'Super Mario 64 DS':\n",
    "        thislist = [report['Length']['All PlayStyles']['Average'],report['Length']['All PlayStyles']['Leisure'],report['Length']['All PlayStyles']['Median'],report['Length']['All PlayStyles']['Polled'],report['Length']['All PlayStyles']['Rushed']]\n",
    "objects = ('Average', 'Leisure', 'Median', 'Polled', 'Rushed')\n",
    "plt.bar(objects, thislist)\n",
    "plt.xticks(objects)\n",
    "plt.ylabel('Time played in minutes')\n",
    "plt.title('Time taken to play Super Mario 64 DS')\n",
    "plt.show()"
   ]
  },
  {
   "cell_type": "markdown",
   "metadata": {},
   "source": [
    "This bar graph shows the time in minutes needed to play Super Mario 64 DS. People who played for leisure played for slighlty more than 30 minutes. People who were rushed played for slightly less than 20 minutes. People who were polled, played the most by far playing for over 50 minutes. On average, people played for about 25 minutes."
   ]
  },
  {
   "cell_type": "markdown",
   "metadata": {},
   "source": [
    "# Mean, Median, SD Analysis\n",
    "\n",
    "For my third additional analysis, I chose to do a mean, median, and standard deviation analysis for games with a E, M, and T rating."
   ]
  },
  {
   "cell_type": "code",
   "execution_count": 8,
   "metadata": {},
   "outputs": [
    {
     "name": "stdout",
     "output_type": "stream",
     "text": [
      "The mean rating of Games with an E rating is  69.17107942973523\n",
      "The median rating of Games with an E rating is  71\n",
      "The Standard Deviation of Games with an E rating is  13.378449723182385\n",
      "\n",
      "The mean rating of Games with a M rating is  67.29083665338645\n",
      "The median rating of Games with a M rating is  69\n",
      "The Standard Deviation of Games with a M rating is  12.957433221792469\n",
      "\n",
      "The mean rating of Games with a T rating is  69.29148936170213\n",
      "The median rating of Games with a T rating is  71.0\n",
      "The Standard Deviation of Games with a T rating is  12.463769751261717\n"
     ]
    }
   ],
   "source": [
    "import statistics\n",
    "anotherlist = []\n",
    "for report in reports:\n",
    "    if report['Release']['Rating']== 'E':\n",
    "        anotherlist.append(report['Metrics']['Review Score'])\n",
    "Emean = statistics.mean(anotherlist)\n",
    "Emedian= statistics.median(anotherlist)\n",
    "Esd = statistics.stdev(anotherlist)\n",
    "thislist =[]\n",
    "for report in reports:\n",
    "    if report['Release']['Rating']== 'M':\n",
    "        thislist.append(report['Metrics']['Review Score'])\n",
    "Mmean = statistics.mean(thislist)\n",
    "Mmedian= statistics.median(thislist)\n",
    "Msd = statistics.stdev(thislist)\n",
    "bootleglist = []\n",
    "for report in reports:\n",
    "    if report['Release']['Rating']== 'T':\n",
    "        bootleglist.append(report['Metrics']['Review Score'])\n",
    "Tmean = statistics.mean(bootleglist)\n",
    "Tmedian= statistics.median(bootleglist)\n",
    "Tsd = statistics.stdev(bootleglist)\n",
    "print(\"The mean rating of Games with an E rating is \",Emean)\n",
    "print(\"The median rating of Games with an E rating is \",Emedian)\n",
    "print(\"The Standard Deviation of Games with an E rating is \",Esd)\n",
    "print('')\n",
    "print(\"The mean rating of Games with a M rating is \",Mmean)\n",
    "print(\"The median rating of Games with a M rating is \",Mmedian)\n",
    "print(\"The Standard Deviation of Games with a M rating is \",Msd)\n",
    "print('')\n",
    "print(\"The mean rating of Games with a T rating is \",Tmean)\n",
    "print(\"The median rating of Games with a T rating is \",Tmedian)\n",
    "print(\"The Standard Deviation of Games with a T rating is \",Tsd)"
   ]
  },
  {
   "cell_type": "markdown",
   "metadata": {},
   "source": [
    "In order to do this analysis, I imported statistics and used the mean, median, and SD functions to find those values for games with an E rating, M rating, and T rating respectively. It found that games with an E and T rating had a significantly better rating than games with a M rating at about 69.20. Game with an E and T rating both had a median of 71 while the median for M rated games was 69. The standard deviation was about similar for all three categories between 12 and 13."
   ]
  },
  {
   "cell_type": "markdown",
   "metadata": {},
   "source": [
    "# Stakeholder Analysis\n",
    "\n",
    "Two stakeholders who might be interested in this analysis are:\n",
    "\n",
    "* Video game developers, who want to know what type of games get the best ratings so they can prioritize those games and be able to maximize profits.\n",
    "* Parents of children, who might be interested in seeing which games require less playing time so they can buy those games so their children do not play too much games.\n",
    "\n",
    "These two stakeholders are likely in conflict with eachother. Video game developers would want children to buy more and play more video games so they can make more money. Parents of children would want kids to play less so they can focus on more important things than video games."
   ]
  }
 ],
 "metadata": {
  "kernelspec": {
   "display_name": "Python 3",
   "language": "python",
   "name": "python3"
  },
  "language_info": {
   "codemirror_mode": {
    "name": "ipython",
    "version": 3
   },
   "file_extension": ".py",
   "mimetype": "text/x-python",
   "name": "python",
   "nbconvert_exporter": "python",
   "pygments_lexer": "ipython3",
   "version": "3.8.8"
  }
 },
 "nbformat": 4,
 "nbformat_minor": 4
}
